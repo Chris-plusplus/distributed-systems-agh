{
 "cells": [
  {
   "cell_type": "code",
   "execution_count": 1,
   "id": "a28c10db",
   "metadata": {},
   "outputs": [],
   "source": [
    "import ray\n",
    "from NameNode import NameNode\n",
    "from StorageNode import StorageNode\n",
    "from Chunk import Chunks\n",
    "import Config\n",
    "from Store import *\n",
    "from Update import *\n",
    "from Remove import *\n",
    "from Get import *\n",
    "import os"
   ]
  },
  {
   "cell_type": "code",
   "execution_count": null,
   "id": "bc9bdd31",
   "metadata": {},
   "outputs": [
    {
     "name": "stderr",
     "output_type": "stream",
     "text": [
      "2025-05-13 17:11:21,177\tINFO client_builder.py:244 -- Passing the following kwargs to ray.init() on the server: log_to_driver\n",
      "2025-05-13 17:11:21,530\tINFO packaging.py:575 -- Creating a file package for local module 'c:\\studia\\rozprochy\\ray'.\n",
      "2025-05-13 17:11:21,574\tINFO packaging.py:367 -- Pushing file package 'gcs://_ray_pkg_e1bcd06d0912b6e6.zip' (0.06MiB) to Ray cluster...\n",
      "2025-05-13 17:11:21,606\tINFO packaging.py:380 -- Successfully pushed file package 'gcs://_ray_pkg_e1bcd06d0912b6e6.zip'.\n",
      "SIGTERM handler is not set because current thread is not the main thread.\n"
     ]
    },
    {
     "data": {
      "application/vnd.jupyter.widget-view+json": {
       "model_id": "7a4b044fc8ef4ae4a1cd1405c914b725",
       "version_major": 2,
       "version_minor": 0
      },
      "text/html": [
       "<div class=\"lm-Widget p-Widget lm-Panel p-Panel jp-Cell-outputWrapper\">\n",
       "    <div style=\"margin-left: 50px;display: flex;flex-direction: row;align-items: center\">\n",
       "        <div class=\"jp-RenderedHTMLCommon\" style=\"display: flex; flex-direction: row;\">\n",
       "  <svg viewBox=\"0 0 567 224\" fill=\"none\" xmlns=\"http://www.w3.org/2000/svg\" style=\"height: 3em;\">\n",
       "    <g clip-path=\"url(#clip0_4338_178347)\">\n",
       "        <path d=\"M341.29 165.561H355.29L330.13 129.051C345.63 123.991 354.21 112.051 354.21 94.2307C354.21 71.3707 338.72 58.1807 311.88 58.1807H271V165.561H283.27V131.661H311.8C314.25 131.661 316.71 131.501 319.01 131.351L341.25 165.561H341.29ZM283.29 119.851V70.0007H311.82C331.3 70.0007 342.34 78.2907 342.34 94.5507C342.34 111.271 331.34 119.861 311.82 119.861L283.29 119.851ZM451.4 138.411L463.4 165.561H476.74L428.74 58.1807H416L367.83 165.561H380.83L392.83 138.411H451.4ZM446.19 126.601H398L422 72.1407L446.24 126.601H446.19ZM526.11 128.741L566.91 58.1807H554.35L519.99 114.181L485.17 58.1807H472.44L514.01 129.181V165.541H526.13V128.741H526.11Z\" fill=\"var(--jp-ui-font-color0)\"/>\n",
       "        <path d=\"M82.35 104.44C84.0187 97.8827 87.8248 92.0678 93.1671 87.9146C98.5094 83.7614 105.083 81.5067 111.85 81.5067C118.617 81.5067 125.191 83.7614 130.533 87.9146C135.875 92.0678 139.681 97.8827 141.35 104.44H163.75C164.476 101.562 165.622 98.8057 167.15 96.2605L127.45 56.5605C121.071 60.3522 113.526 61.6823 106.235 60.3005C98.9443 58.9187 92.4094 54.9203 87.8602 49.0574C83.3109 43.1946 81.0609 35.8714 81.5332 28.4656C82.0056 21.0599 85.1679 14.0819 90.4252 8.8446C95.6824 3.60726 102.672 0.471508 110.08 0.0272655C117.487 -0.416977 124.802 1.86091 130.647 6.4324C136.493 11.0039 140.467 17.5539 141.821 24.8501C143.175 32.1463 141.816 39.6859 138 46.0505L177.69 85.7505C182.31 82.9877 187.58 81.4995 192.962 81.4375C198.345 81.3755 203.648 82.742 208.33 85.3976C213.012 88.0532 216.907 91.9029 219.616 96.5544C222.326 101.206 223.753 106.492 223.753 111.875C223.753 117.258 222.326 122.545 219.616 127.197C216.907 131.848 213.012 135.698 208.33 138.353C203.648 141.009 198.345 142.375 192.962 142.313C187.58 142.251 182.31 140.763 177.69 138L138 177.7C141.808 184.071 143.155 191.614 141.79 198.91C140.424 206.205 136.44 212.75 130.585 217.313C124.731 221.875 117.412 224.141 110.004 223.683C102.596 223.226 95.6103 220.077 90.3621 214.828C85.1139 209.58 81.9647 202.595 81.5072 195.187C81.0497 187.779 83.3154 180.459 87.878 174.605C92.4405 168.751 98.9853 164.766 106.281 163.401C113.576 162.035 121.119 163.383 127.49 167.19L167.19 127.49C165.664 124.941 164.518 122.182 163.79 119.3H141.39C139.721 125.858 135.915 131.673 130.573 135.826C125.231 139.98 118.657 142.234 111.89 142.234C105.123 142.234 98.5494 139.98 93.2071 135.826C87.8648 131.673 84.0587 125.858 82.39 119.3H60C58.1878 126.495 53.8086 132.78 47.6863 136.971C41.5641 141.163 34.1211 142.972 26.7579 142.059C19.3947 141.146 12.6191 137.574 7.70605 132.014C2.79302 126.454 0.0813599 119.29 0.0813599 111.87C0.0813599 104.451 2.79302 97.2871 7.70605 91.7272C12.6191 86.1673 19.3947 82.5947 26.7579 81.6817C34.1211 80.7686 41.5641 82.5781 47.6863 86.7696C53.8086 90.9611 58.1878 97.2456 60 104.44H82.35ZM100.86 204.32C103.407 206.868 106.759 208.453 110.345 208.806C113.93 209.159 117.527 208.258 120.522 206.256C123.517 204.254 125.725 201.276 126.771 197.828C127.816 194.38 127.633 190.677 126.253 187.349C124.874 184.021 122.383 181.274 119.205 179.577C116.027 177.88 112.359 177.337 108.826 178.042C105.293 178.746 102.113 180.654 99.8291 183.44C97.5451 186.226 96.2979 189.718 96.3 193.32C96.2985 195.364 96.7006 197.388 97.4831 199.275C98.2656 201.163 99.4132 202.877 100.86 204.32ZM204.32 122.88C206.868 120.333 208.453 116.981 208.806 113.396C209.159 109.811 208.258 106.214 206.256 103.219C204.254 100.223 201.275 98.0151 197.827 96.97C194.38 95.9249 190.676 96.1077 187.348 97.4873C184.02 98.8669 181.274 101.358 179.577 104.536C177.879 107.714 177.337 111.382 178.041 114.915C178.746 118.448 180.653 121.627 183.439 123.911C186.226 126.195 189.717 127.443 193.32 127.44C195.364 127.443 197.388 127.042 199.275 126.259C201.163 125.476 202.878 124.328 204.32 122.88ZM122.88 19.4205C120.333 16.8729 116.981 15.2876 113.395 14.9347C109.81 14.5817 106.213 15.483 103.218 17.4849C100.223 19.4868 98.0146 22.4654 96.9696 25.9131C95.9245 29.3608 96.1073 33.0642 97.4869 36.3922C98.8665 39.7202 101.358 42.4668 104.535 44.1639C107.713 45.861 111.381 46.4036 114.914 45.6992C118.447 44.9949 121.627 43.0871 123.911 40.301C126.195 37.515 127.442 34.0231 127.44 30.4205C127.44 28.3772 127.038 26.3539 126.255 24.4664C125.473 22.5788 124.326 20.8642 122.88 19.4205ZM19.42 100.86C16.8725 103.408 15.2872 106.76 14.9342 110.345C14.5813 113.93 15.4826 117.527 17.4844 120.522C19.4863 123.518 22.4649 125.726 25.9127 126.771C29.3604 127.816 33.0638 127.633 36.3918 126.254C39.7198 124.874 42.4664 122.383 44.1635 119.205C45.8606 116.027 46.4032 112.359 45.6988 108.826C44.9944 105.293 43.0866 102.114 40.3006 99.8296C37.5145 97.5455 34.0227 96.2983 30.42 96.3005C26.2938 96.3018 22.337 97.9421 19.42 100.86ZM100.86 100.86C98.3125 103.408 96.7272 106.76 96.3742 110.345C96.0213 113.93 96.9226 117.527 98.9244 120.522C100.926 123.518 103.905 125.726 107.353 126.771C110.8 127.816 114.504 127.633 117.832 126.254C121.16 124.874 123.906 122.383 125.604 119.205C127.301 116.027 127.843 112.359 127.139 108.826C126.434 105.293 124.527 102.114 121.741 99.8296C118.955 97.5455 115.463 96.2983 111.86 96.3005C109.817 96.299 107.793 96.701 105.905 97.4835C104.018 98.2661 102.303 99.4136 100.86 100.86Z\" fill=\"#00AEEF\"/>\n",
       "    </g>\n",
       "    <defs>\n",
       "        <clipPath id=\"clip0_4338_178347\">\n",
       "            <rect width=\"566.93\" height=\"223.75\" fill=\"white\"/>\n",
       "        </clipPath>\n",
       "    </defs>\n",
       "  </svg>\n",
       "</div>\n",
       "\n",
       "        <table class=\"jp-RenderedHTMLCommon\" style=\"border-collapse: collapse;color: var(--jp-ui-font-color1);font-size: var(--jp-ui-font-size1);\">\n",
       "    <tr>\n",
       "        <td style=\"text-align: left\"><b>Python version:</b></td>\n",
       "        <td style=\"text-align: left\"><b>3.12.9</b></td>\n",
       "    </tr>\n",
       "    <tr>\n",
       "        <td style=\"text-align: left\"><b>Ray version:</b></td>\n",
       "        <td style=\"text-align: left\"><b>2.44.1</b></td>\n",
       "    </tr>\n",
       "    \n",
       "</table>\n",
       "\n",
       "    </div>\n",
       "</div>\n"
      ],
      "text/plain": [
       "ClientContext(dashboard_url='', python_version='3.12.9', ray_version='2.44.1', ray_commit='daca7b2b1a950dc7f731e34e74c76ae383794ffe', _num_clients=1, _context_to_restore=<ray.util.client._ClientContext object at 0x00000262CB4701D0>, protocol_version=None)"
      ]
     },
     "execution_count": 2,
     "metadata": {},
     "output_type": "execute_result"
    },
    {
     "name": "stdout",
     "output_type": "stream",
     "text": [
      "\u001b[36m(NameNode pid=26414)\u001b[0m new node: StorageNode0, @ 0\n",
      "\u001b[36m(NameNode pid=26414)\u001b[0m new node: StorageNode1, @ 1\n",
      "\u001b[36m(NameNode pid=26414)\u001b[0m new node: StorageNode2, @ 2\n",
      "\u001b[36m(NameNode pid=26414)\u001b[0m new node: StorageNode3, @ 3\n",
      "\u001b[36m(NameNode pid=26414)\u001b[0m storage(): \"data\" not in locations\n",
      "\u001b[36m(NameNode pid=26414)\u001b[0m stored data \"data\" chunk 0 in 3\n",
      "\u001b[36m(3 pid=26474)\u001b[0m {'data': [0]}\n",
      "\u001b[36m(NameNode pid=26414)\u001b[0m stored data \"data\" chunk 0 in 2\n",
      "\u001b[36m(2 pid=26475)\u001b[0m {'data': [0]}\n",
      "\u001b[36m(0 pid=26479)\u001b[0m {'data': [0]}\n",
      "\u001b[36m(NameNode pid=26414)\u001b[0m stored data \"data\" chunk 0 in 0\n",
      "\u001b[36m(NameNode pid=26414)\u001b[0m stored data \"data\" chunk 1 in 3\n",
      "\u001b[36m(NameNode pid=26414)\u001b[0m stored data \"data\" chunk 1 in 2\n",
      "\u001b[36m(NameNode pid=26414)\u001b[0m stored data \"data\" chunk 1 in 1\n",
      "\u001b[36m(1 pid=26478)\u001b[0m {'data': [1]}\n",
      "\u001b[36m(2 pid=26475)\u001b[0m {'data': [0, 1]}\n",
      "\u001b[36m(3 pid=26474)\u001b[0m {'data': [0, 1]}\n",
      "\u001b[36m(3 pid=26474)\u001b[0m {'data': [0, 1]}\n",
      "\u001b[36m(2 pid=26475)\u001b[0m {'data': [0, 1]}\n",
      "\u001b[36m(0 pid=26479)\u001b[0m {'data': [0]}\n",
      "\u001b[36m(3 pid=26474)\u001b[0m {'data': [0, 1]}\n",
      "\u001b[36m(2 pid=26475)\u001b[0m {'data': [0, 1]}\n",
      "\u001b[36m(1 pid=26478)\u001b[0m {'data': [1]}\n",
      "\u001b[36m(NameNode pid=26414)\u001b[0m stored data \"data\" chunk 2 in 1\n",
      "\u001b[36m(1 pid=26478)\u001b[0m {'data': [1, 2]}\n",
      "\u001b[36m(NameNode pid=26414)\u001b[0m stored data \"data\" chunk 2 in 3\n",
      "\u001b[36m(3 pid=26474)\u001b[0m {'data': [0, 1, 2]}\n",
      "\u001b[36m(NameNode pid=26414)\u001b[0m stored data \"data\" chunk 2 in 0\n",
      "\u001b[36m(0 pid=26479)\u001b[0m {'data': [0, 2]}\n",
      "\u001b[36m(NameNode pid=26414)\u001b[0m stored data \"data\" chunk 3 in 2\n",
      "\u001b[36m(NameNode pid=26414)\u001b[0m stored data \"data\" chunk 3 in 3\n",
      "\u001b[36m(NameNode pid=26414)\u001b[0m stored data \"data\" chunk 3 in 1\n",
      "\u001b[36m(NameNode pid=26414)\u001b[0m stored data \"data\" chunk 4 in 3\n",
      "\u001b[36m(1 pid=26478)\u001b[0m {'data': [1, 2, 3]}\n",
      "\u001b[36m(2 pid=26475)\u001b[0m {'data': [0, 1, 3]}\n",
      "\u001b[36m(3 pid=26474)\u001b[0m {'data': [0, 1, 2, 3]}\n",
      "\u001b[36m(3 pid=26474)\u001b[0m {'data': [0, 1, 2, 3, 4]}\n",
      "\u001b[36m(NameNode pid=26414)\u001b[0m stored data \"data\" chunk 4 in 0\n",
      "\u001b[36m(0 pid=26479)\u001b[0m {'data': [0, 2, 4]}\n",
      "\u001b[36m(1 pid=26478)\u001b[0m {'data': [1, 2, 3, 4]}\n",
      "\u001b[36m(NameNode pid=26414)\u001b[0m stored data \"data\" chunk 4 in 1\n",
      "\u001b[36m(NameNode pid=26414)\u001b[0m storage(): \"data\" in locations\n",
      "\u001b[36m(1 pid=26478)\u001b[0m {'data': [1, 3, 4]}\n",
      "\u001b[36m(3 pid=26474)\u001b[0m {'data': [0, 1, 3, 4]}\n",
      "\u001b[36m(0 pid=26479)\u001b[0m {'data': [0, 4]}\n",
      "\u001b[36m(2 pid=26475)\u001b[0m {'data': [0, 1]}\n",
      "\u001b[36m(3 pid=26474)\u001b[0m {'data': [0, 1, 4]}\n",
      "\u001b[36m(1 pid=26478)\u001b[0m {'data': [1, 4]}\n",
      "\u001b[36m(3 pid=26474)\u001b[0m {'data': [0, 1]}\n",
      "\u001b[36m(0 pid=26479)\u001b[0m {'data': [0]}\n",
      "\u001b[36m(1 pid=26478)\u001b[0m {'data': [1]}\n",
      "\u001b[36m(3 pid=26474)\u001b[0m {'data': [0, 1]}\n",
      "\u001b[36m(2 pid=26475)\u001b[0m {'data': [0, 1]}\n",
      "\u001b[36m(0 pid=26479)\u001b[0m {'data': [0]}\n",
      "\u001b[36m(3 pid=26474)\u001b[0m {'data': [0, 1]}\n",
      "\u001b[36m(2 pid=26475)\u001b[0m {'data': [0, 1]}\n",
      "\u001b[36m(1 pid=26478)\u001b[0m {'data': [1]}\n",
      "\u001b[36m(NameNode pid=26414)\u001b[0m storage(): \"data\" in locations\n",
      "\u001b[36m(NameNode pid=26414)\u001b[0m found dead nodes: [0]\n",
      "\u001b[36m(NameNode pid=26414)\u001b[0m new node: StorageNode4, @ 0\n",
      "\u001b[36m(NameNode pid=26414)\u001b[0m recovering node 0:\n",
      "\u001b[36m(0 pid=26887)\u001b[0m {'data': [0]}\n",
      "\u001b[36m(NameNode pid=26414)\u001b[0m \trecovered chunk 0 for \"data\"\n",
      "\u001b[36m(NameNode pid=26414)\u001b[0m storage(): \"data\" in locations\n",
      "\u001b[36m(NameNode pid=26414)\u001b[0m found dead nodes: [0]\n",
      "\u001b[36m(NameNode pid=26414)\u001b[0m new node: StorageNode5, @ 0\n",
      "\u001b[36m(NameNode pid=26414)\u001b[0m recovering node 0:\n",
      "\u001b[36m(NameNode pid=26414)\u001b[0m \trecovered chunk 0 for \"data\"\n",
      "\u001b[36m(0 pid=26964)\u001b[0m {'data': [0]}\n",
      "\u001b[36m(3 pid=26474)\u001b[0m {'data': [1]}\n",
      "\u001b[36m(2 pid=26475)\u001b[0m {'data': [1]}\n",
      "\u001b[36m(0 pid=26964)\u001b[0m {}\n",
      "\u001b[36m(3 pid=26474)\u001b[0m {}\n",
      "\u001b[36m(2 pid=26475)\u001b[0m {}\n",
      "\u001b[36m(1 pid=26478)\u001b[0m {}\n"
     ]
    }
   ],
   "source": [
    "if ray.is_initialized():\n",
    "    ray.shutdown()\n",
    "# 192.168.0.3 to telefon z androidem\n",
    "ray.init(address=\"ray://192.168.238.170:10001\", runtime_env={\n",
    "    \"working_dir\": os.getcwd()\n",
    "})"
   ]
  },
  {
   "cell_type": "code",
   "execution_count": 3,
   "id": "eeb077c9",
   "metadata": {},
   "outputs": [],
   "source": [
    "nn = NameNode.remote()"
   ]
  },
  {
   "cell_type": "code",
   "execution_count": 4,
   "id": "7ca46d0d",
   "metadata": {},
   "outputs": [
    {
     "data": {
      "text/plain": [
       "39"
      ]
     },
     "execution_count": 4,
     "metadata": {},
     "output_type": "execute_result"
    }
   ],
   "source": [
    "name = 'data'\n",
    "data = 'Lorem ipsum dolor sit amet, consectetur'\n",
    "len(data)"
   ]
  },
  {
   "cell_type": "code",
   "execution_count": 5,
   "id": "207b5ce8",
   "metadata": {},
   "outputs": [
    {
     "name": "stdout",
     "output_type": "stream",
     "text": [
      "Chunk 0 can be stored in nodes:\n",
      "\t[3, 2, 0]\n",
      "Chunk 1 can be stored in nodes:\n",
      "\t[1, 3, 2]\n"
     ]
    }
   ],
   "source": [
    "# pobieram storage na dane (propozycja)\n",
    "storageForData = ray.get(nn.storage.remote(name, Chunks.count(len(data))))\n",
    "for chunk in range(Chunks.count(len(data))):\n",
    "    print(f'Chunk {chunk} can be stored in nodes:')\n",
    "    print(f'\\t{list(map(lambda x: x[0], storageForData[chunk]))}')"
   ]
  },
  {
   "cell_type": "code",
   "execution_count": 6,
   "id": "4fd8ff3b",
   "metadata": {},
   "outputs": [],
   "source": [
    "# zapisuję dane w proponowanych node'ach\n",
    "store(name, storageForData, data)"
   ]
  },
  {
   "cell_type": "code",
   "execution_count": 7,
   "id": "fa360733",
   "metadata": {},
   "outputs": [
    {
     "name": "stdout",
     "output_type": "stream",
     "text": [
      "{'data': [[3, 2, 0], [3, 2, 1]]}\n",
      "[{'data': {0}}, {'data': {1}}, {'data': {0, 1}}, {'data': {0, 1}}]\n",
      "{0: {'data': [0]}, 1: {'data': [1]}, 2: {'data': [0, 1]}, 3: {'data': [0, 1]}}\n"
     ]
    }
   ],
   "source": [
    "print(ray.get(nn.state.remote()))"
   ]
  },
  {
   "cell_type": "code",
   "execution_count": null,
   "id": "0a800078",
   "metadata": {},
   "outputs": [],
   "source": [
    "# odczyt kolejncyh chunków\n",
    "nodes = [storageForData[i][0] for i in range(Chunks.count(len(data)))]\n",
    "print(ray.get(nn.state.remote()))\n",
    "for i, pair in enumerate(nodes):\n",
    "    print(f'{i}: \\'{ray.get(pair[1].get.remote(name, i))}\\'')"
   ]
  },
  {
   "cell_type": "code",
   "execution_count": 8,
   "id": "23590ef0",
   "metadata": {},
   "outputs": [],
   "source": [
    "dataMore = 'Lorem ipsum dolor sit amet, consectetur adipiscing elit, sed do eiusmod tempor incididunt ut labore et dolore magna aliqua. Ut enim ad'"
   ]
  },
  {
   "cell_type": "code",
   "execution_count": 9,
   "id": "fdbe35d0",
   "metadata": {},
   "outputs": [
    {
     "data": {
      "text/plain": [
       "([[(3, ClientActorHandle(03963ed8cd220454b350573001000000)),\n",
       "   (2, ClientActorHandle(3237ac34170829e4e3c117d401000000)),\n",
       "   (0, ClientActorHandle(ff8580e22acd09b1f30afbc401000000))],\n",
       "  [(3, ClientActorHandle(03963ed8cd220454b350573001000000)),\n",
       "   (2, ClientActorHandle(3237ac34170829e4e3c117d401000000)),\n",
       "   (1, ClientActorHandle(c695684a5657b23d5ed6a26201000000))]],\n",
       " None,\n",
       " [[(1, ClientActorHandle(c695684a5657b23d5ed6a26201000000)),\n",
       "   (3, ClientActorHandle(03963ed8cd220454b350573001000000)),\n",
       "   (0, ClientActorHandle(ff8580e22acd09b1f30afbc401000000))],\n",
       "  [(2, ClientActorHandle(3237ac34170829e4e3c117d401000000)),\n",
       "   (3, ClientActorHandle(03963ed8cd220454b350573001000000)),\n",
       "   (1, ClientActorHandle(c695684a5657b23d5ed6a26201000000))],\n",
       "  [(3, ClientActorHandle(03963ed8cd220454b350573001000000)),\n",
       "   (0, ClientActorHandle(ff8580e22acd09b1f30afbc401000000)),\n",
       "   (1, ClientActorHandle(c695684a5657b23d5ed6a26201000000))]])"
      ]
     },
     "execution_count": 9,
     "metadata": {},
     "output_type": "execute_result"
    }
   ],
   "source": [
    "# pobieram storage dla update (propozycja)\n",
    "storageUpdate = ray.get(nn.updateStorage.remote(name, Chunks.count(len(dataMore))))\n",
    "storageUpdate"
   ]
  },
  {
   "cell_type": "code",
   "execution_count": 10,
   "id": "d946da85",
   "metadata": {},
   "outputs": [],
   "source": [
    "# aktualizuję wpis zgodnie z propozycją\n",
    "update(name, storageUpdate, dataMore)"
   ]
  },
  {
   "cell_type": "code",
   "execution_count": 11,
   "id": "6d84674d",
   "metadata": {},
   "outputs": [
    {
     "name": "stdout",
     "output_type": "stream",
     "text": [
      "{'data': [[3, 2, 0], [3, 2, 1], [1, 3, 0], [2, 3, 1], [3, 0, 1]]}\n",
      "[{'data': {0, 2, 4}}, {'data': {1, 2, 3, 4}}, {'data': {0, 1, 3}}, {'data': {0, 1, 2, 3, 4}}]\n",
      "{0: {'data': [0, 2, 4]}, 1: {'data': [1, 2, 3, 4]}, 2: {'data': [0, 1, 3]}, 3: {'data': [0, 1, 2, 3, 4]}}\n",
      "0: 'Lorem ipsum dolor sit amet, cons'\n",
      "1: 'ectetur adipiscing elit, sed do '\n",
      "2: 'eiusmod tempor incididunt ut lab'\n",
      "3: 'ore et dolore magna aliqua. Ut e'\n",
      "4: 'nim ad'\n"
     ]
    }
   ],
   "source": [
    "storageMore = ray.get(nn.storage.remote(name, Chunks.count(len(dataMore))))\n",
    "print(ray.get(nn.state.remote()))\n",
    "nodesMore = [storageMore[i][0] for i in range(Chunks.count(len(dataMore)))]\n",
    "for i, pair in enumerate(nodesMore):\n",
    "    print(f'{i}: \\'{ray.get(pair[1].get.remote(name, i))}\\'')"
   ]
  },
  {
   "cell_type": "code",
   "execution_count": 12,
   "id": "76a638b8",
   "metadata": {},
   "outputs": [
    {
     "data": {
      "text/plain": [
       "([[(3, ClientActorHandle(03963ed8cd220454b350573001000000)),\n",
       "   (2, ClientActorHandle(3237ac34170829e4e3c117d401000000)),\n",
       "   (0, ClientActorHandle(ff8580e22acd09b1f30afbc401000000))],\n",
       "  [(3, ClientActorHandle(03963ed8cd220454b350573001000000)),\n",
       "   (2, ClientActorHandle(3237ac34170829e4e3c117d401000000)),\n",
       "   (1, ClientActorHandle(c695684a5657b23d5ed6a26201000000))]],\n",
       " [[(1, ClientActorHandle(c695684a5657b23d5ed6a26201000000)),\n",
       "   (3, ClientActorHandle(03963ed8cd220454b350573001000000)),\n",
       "   (0, ClientActorHandle(ff8580e22acd09b1f30afbc401000000))],\n",
       "  [(2, ClientActorHandle(3237ac34170829e4e3c117d401000000)),\n",
       "   (3, ClientActorHandle(03963ed8cd220454b350573001000000)),\n",
       "   (1, ClientActorHandle(c695684a5657b23d5ed6a26201000000))],\n",
       "  [(3, ClientActorHandle(03963ed8cd220454b350573001000000)),\n",
       "   (0, ClientActorHandle(ff8580e22acd09b1f30afbc401000000)),\n",
       "   (1, ClientActorHandle(c695684a5657b23d5ed6a26201000000))]],\n",
       " None)"
      ]
     },
     "execution_count": 12,
     "metadata": {},
     "output_type": "execute_result"
    }
   ],
   "source": [
    "dataUpper = data.upper()\n",
    "storageUpdateUpper = ray.get(nn.updateStorage.remote(name, Chunks.count(len(dataUpper))))\n",
    "storageUpdateUpper"
   ]
  },
  {
   "cell_type": "code",
   "execution_count": 13,
   "id": "f099c430",
   "metadata": {},
   "outputs": [],
   "source": [
    "update(name, storageUpdateUpper, dataUpper)"
   ]
  },
  {
   "cell_type": "code",
   "execution_count": 16,
   "id": "5da200e7",
   "metadata": {},
   "outputs": [
    {
     "name": "stdout",
     "output_type": "stream",
     "text": [
      "{'data': [[3, 2, 0], [3, 2, 1]]}\n",
      "[{'data': {0}}, {'data': {1}}, {'data': {0, 1}}, {'data': {0, 1}}]\n",
      "{0: {'data': [0]}, 1: {'data': [1]}, 2: {'data': [0, 1]}, 3: {'data': [0, 1]}}\n",
      "0: 'LOREM IPSUM DOLOR SIT AMET, CONS'\n",
      "1: 'ECTETUR'\n"
     ]
    }
   ],
   "source": [
    "storageUpper = ray.get(nn.storage.remote(name, Chunks.count(len(dataUpper))))\n",
    "print(ray.get(nn.state.remote()))\n",
    "nodesMore = [storageUpper[i][0] for i in range(Chunks.count(len(dataUpper)))]\n",
    "for i, pair in enumerate(nodesMore):\n",
    "    print(f'{i}: \\'{ray.get(pair[1].get.remote(name, i))}\\'')"
   ]
  },
  {
   "cell_type": "code",
   "execution_count": 19,
   "id": "a2627b92",
   "metadata": {},
   "outputs": [
    {
     "name": "stdout",
     "output_type": "stream",
     "text": [
      "{}\n",
      "[{}, {}, {}, {}]\n",
      "{0: {}, 1: {}, 2: {}, 3: {}}\n"
     ]
    }
   ],
   "source": [
    "print(ray.get(nn.state.remote()))"
   ]
  },
  {
   "cell_type": "code",
   "execution_count": 15,
   "id": "2840c27a",
   "metadata": {},
   "outputs": [],
   "source": [
    "# usuwam aktora i naprawiam błędy\n",
    "ray.kill(ray.get_actor(\"StorageNode0\"))\n",
    "ray.get(nn.assure.remote())"
   ]
  },
  {
   "cell_type": "code",
   "execution_count": 17,
   "id": "d7ae9664",
   "metadata": {},
   "outputs": [
    {
     "name": "stdout",
     "output_type": "stream",
     "text": [
      "LOREM IPSUM DOLOR SIT AMET, CONSECTETUR\n"
     ]
    }
   ],
   "source": [
    "# pobieram artefakt\n",
    "print(get(name, ray.get(nn.getStorage.remote(name))))"
   ]
  },
  {
   "cell_type": "code",
   "execution_count": 18,
   "id": "8825154c",
   "metadata": {},
   "outputs": [],
   "source": [
    "# usuwam artefakt\n",
    "remove(name, ray.get(nn.removeStorage.remote(name)))"
   ]
  }
 ],
 "metadata": {
  "kernelspec": {
   "display_name": "Python 3",
   "language": "python",
   "name": "python3"
  },
  "language_info": {
   "codemirror_mode": {
    "name": "ipython",
    "version": 3
   },
   "file_extension": ".py",
   "mimetype": "text/x-python",
   "name": "python",
   "nbconvert_exporter": "python",
   "pygments_lexer": "ipython3",
   "version": "3.12.9"
  }
 },
 "nbformat": 4,
 "nbformat_minor": 5
}
